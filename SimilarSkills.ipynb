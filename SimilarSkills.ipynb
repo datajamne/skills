{
 "cells": [
  {
   "cell_type": "code",
   "execution_count": 1,
   "metadata": {},
   "outputs": [],
   "source": [
    "import pandas as pd\n",
    "import numpy as np"
   ]
  },
  {
   "cell_type": "code",
   "execution_count": 8,
   "metadata": {},
   "outputs": [],
   "source": [
    "# Reading in and setting up the adjacency matrix\n",
    "Adj=pd.read_csv('https://datajam2018.blob.core.windows.net/eventopendata/ne_data/dwp_data/adzuna_adjacency_201709_201808.csv')\n",
    "Adj=Adj.set_index('skills')\n"
   ]
  },
  {
   "cell_type": "code",
   "execution_count": 10,
   "metadata": {},
   "outputs": [],
   "source": [
    "# Calculating correlation matrix\n",
    "Diag=Adj.max()\n",
    "B=Adj.divide(Diag)\n",
    "Corr=B.multiply(B.transpose())"
   ]
  },
  {
   "cell_type": "code",
   "execution_count": 20,
   "metadata": {},
   "outputs": [
    {
     "data": {
      "text/plain": [
       "C#                      0.326652\n",
       "Clients                 0.148210\n",
       "Communication           0.134327\n",
       "Account Management      0.129131\n",
       "ASP.NET                 0.125519\n",
       "Sales Management        0.119239\n",
       "Customer Service        0.113508\n",
       "Microsoft SQL Server    0.112313\n",
       "ASP.NET MVC             0.105367\n",
       "Management              0.104850\n",
       "dtype: float64"
      ]
     },
     "execution_count": 20,
     "metadata": {},
     "output_type": "execute_result"
    }
   ],
   "source": [
    "# Choosing n skills most correlated to user's skills (mySkills)\n",
    "def SimilarSkills(mySkills, n) :\n",
    "    m=len(mySkills)\n",
    "    Similar=Corr.loc[mySkills].sum()\n",
    "    Similar=Similar.sort_values(ascending=False)[m:]\n",
    "    return Similar[:n]\n",
    "\n",
    "mySkills = ['.Net', 'Sales','Marketing','Business Development']\n",
    "SimilarSkills(mySkills, 10)\n"
   ]
  },
  {
   "cell_type": "code",
   "execution_count": null,
   "metadata": {},
   "outputs": [],
   "source": []
  },
  {
   "cell_type": "code",
   "execution_count": null,
   "metadata": {},
   "outputs": [],
   "source": []
  }
 ],
 "metadata": {
  "kernelspec": {
   "display_name": "Python 3",
   "language": "python",
   "name": "python3"
  },
  "language_info": {
   "codemirror_mode": {
    "name": "ipython",
    "version": 3
   },
   "file_extension": ".py",
   "mimetype": "text/x-python",
   "name": "python",
   "nbconvert_exporter": "python",
   "pygments_lexer": "ipython3",
   "version": "3.6.5"
  }
 },
 "nbformat": 4,
 "nbformat_minor": 2
}
