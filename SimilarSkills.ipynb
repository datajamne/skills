{
 "cells": [
  {
   "cell_type": "code",
   "execution_count": 1,
   "metadata": {},
   "outputs": [],
   "source": [
    "import pandas as pd\n",
    "import numpy as np"
   ]
  },
  {
   "cell_type": "markdown",
   "metadata": {},
   "source": [
    "*Skills Recommendation*: For a set of skills provided by user, return n skills which are the most similar"
   ]
  },
  {
   "cell_type": "code",
   "execution_count": 8,
   "metadata": {},
   "outputs": [],
   "source": [
    "# Reading in and setting up the adjacency matrix\n",
    "Adj=pd.read_csv('https://datajam2018.blob.core.windows.net/eventopendata/ne_data/dwp_data/adzuna_adjacency_201709_201808.csv')\n",
    "Adj=Adj.set_index('skills')\n"
   ]
  },
  {
   "cell_type": "code",
   "execution_count": 10,
   "metadata": {},
   "outputs": [],
   "source": [
    "# Calculating correlation matrix\n",
    "Diag=Adj.max()\n",
    "B=Adj.divide(Diag)\n",
    "Corr=B.multiply(B.transpose())"
   ]
  },
  {
   "cell_type": "code",
   "execution_count": 98,
   "metadata": {},
   "outputs": [
    {
     "data": {
      "text/plain": [
       "array(['C#', 'Clients', 'Communication', 'Account Management', 'ASP.NET',\n",
       "       'Sales Management', 'Customer Service', 'Microsoft SQL Server',\n",
       "       'ASP.NET MVC', 'Management'], dtype=object)"
      ]
     },
     "execution_count": 98,
     "metadata": {},
     "output_type": "execute_result"
    }
   ],
   "source": [
    "# Choosing n skills most correlated to user's skills (mySkills)\n",
    "def SimilarSkills(mySkills, n) :\n",
    "    m=len(mySkills)\n",
    "    Similar=Corr.loc[mySkills].sum()\n",
    "    Similar=Similar.sort_values(ascending=False)[m:]\n",
    "    Similar=Similar.index.values\n",
    "    return Similar[:n]\n",
    "# Test\n",
    "#mySkills = ['.Net', 'Sales','Marketing','Business Development']\n",
    "#SimilarSkills(mySkills, 10)"
   ]
  },
  {
   "cell_type": "markdown",
   "metadata": {},
   "source": [
    "*Salary Information*: For each recommended skill return median salary from July 2018"
   ]
  },
  {
   "cell_type": "code",
   "execution_count": 34,
   "metadata": {},
   "outputs": [],
   "source": [
    "# Get Salary information for skills, use latest reliable data\n",
    "SkillSalary=pd.read_csv('https://datajam2018.blob.core.windows.net/eventopendata/ne_data/dwp_data/adzuna_skill_salary_median.csv', index_col=0)\n",
    "Salary=SkillSalary.loc[201807]"
   ]
  },
  {
   "cell_type": "code",
   "execution_count": 99,
   "metadata": {},
   "outputs": [
    {
     "data": {
      "text/plain": [
       "Microsoft Powerpoint    27500.0\n",
       "Reporting               28876.0\n",
       "Communication           26880.0\n",
       "Management              27840.0\n",
       "Microsoft Outlook       28876.0\n",
       "Finance                 28876.0\n",
       "Microsoft Office        28876.0\n",
       "Solutions               28876.0\n",
       "Attention to Detail     28876.0\n",
       "Analytics               28876.0\n",
       "Name: 201807, dtype: float64"
      ]
     },
     "execution_count": 99,
     "metadata": {},
     "output_type": "execute_result"
    }
   ],
   "source": [
    "# For each recommended skill return median salary\n",
    "def SimilarSalary (mySkills, n) :\n",
    "    mySimilarSkills=SimilarSkills(mySkills, 10)\n",
    "    mySimilarSalary=Salary[mySimilarSkills]\n",
    "    return mySimilarSalary\n",
    "\n",
    "# Test\n",
    "#mySkills = ['Sales','Marketing','Business Development','Project Management']\n",
    "#mySkills =['Analysis', 'Statistics','Data','Microsoft Excel', 'R']\n",
    "#SimilarSalary(mySkills,10)"
   ]
  },
  {
   "cell_type": "markdown",
   "metadata": {},
   "source": [
    "*Job Titles*: Using users current and recommended skills return related jobtitles"
   ]
  },
  {
   "cell_type": "code",
   "execution_count": 54,
   "metadata": {},
   "outputs": [],
   "source": [
    "# Get the skills and job titles data\n",
    "SkillJobs=pd.read_csv('https://datajam2018.blob.core.windows.net/eventopendata/ne_data/dwp_data/adzuna_skills_jobs_201704_201803.csv')\n",
    "SkillJobs=SkillJobs.set_index('normalised_job_title')"
   ]
  },
  {
   "cell_type": "code",
   "execution_count": 116,
   "metadata": {},
   "outputs": [],
   "source": [
    "# For a list of skills return related job titles\n",
    "JobFreq=SkillJobs.sum(axis=0) # Get total frequency for all skills\n",
    "RelativeFreq=SkillJobs.div(JobFreq, axis=1) # For each skill get raltive frequency of jobs\n",
    "\n",
    "def RelatedJobs (mySkills, n) :\n",
    "    MyRelativeFreq=RelativeFreq[mySkills] # Pick out relative frequency of users skills\n",
    "    myJobs=MyRelativeFreq.sum(axis=1)\n",
    "    myJobs=myJobs.sort_values(ascending=False).index.values\n",
    "    return myJobs[:n]\n",
    "\n",
    "def CurrentJobs (mySkills,n) :\n",
    "    mySkills_np=np.array(mySkills)\n",
    "    return RelatedJobs(mySkills_np,n)\n",
    "\n",
    "def RecommendedJobs (mySkills, n, m) :\n",
    "    mySkills_np=np.array(mySkills)\n",
    "    allSkills=np.append(mySkills_np,SimilarSkills(mySkills,n))\n",
    "    return RelatedJobs(allSkills,m)"
   ]
  },
  {
   "cell_type": "code",
   "execution_count": 117,
   "metadata": {},
   "outputs": [
    {
     "name": "stdout",
     "output_type": "stream",
     "text": [
      "['Clients' 'Communication' 'Management' 'Account Management'\n",
      " 'Sales Management' 'Customer Service' 'Social Media' 'Solutions'\n",
      " 'Budgets' 'Sales Experience']\n",
      "['Business Development Manager' 'Project Manager' 'Recruitment Consultant'\n",
      " 'Sales Executive' 'Account Manager' 'Business Developer' 'Manager'\n",
      " 'Sales Manager' 'Marketing Manager' 'Marketing Executive']\n",
      "['Business Development Manager' 'Account Manager' 'Recruitment Consultant'\n",
      " 'Project Manager' 'Sales Executive' 'Sales Manager' 'Manager'\n",
      " 'Area Sales Manager' 'Sales Account Manager' 'Business Developer']\n"
     ]
    }
   ],
   "source": [
    "mySkills = ['Sales','Marketing','Business Development','Project Management']\n",
    "#mySkills =['Analysis', 'Statistics','Data','Microsoft Excel', 'R']\n",
    "#Sims=SimilarSkills(mySkills,10)\n",
    "#AllSkills=np.append(np.array(mySkills),Sims)\n",
    "#RelatedJobs(mySkills.append(SimilarSkills(mySkills,10)),10)\n",
    "print(Sims)\n",
    "print(CurrentJobs(mySkills,10))\n",
    "print(RecommendedJobs(mySkills,10,10))"
   ]
  },
  {
   "cell_type": "code",
   "execution_count": 111,
   "metadata": {},
   "outputs": [],
   "source": []
  },
  {
   "cell_type": "code",
   "execution_count": null,
   "metadata": {},
   "outputs": [],
   "source": []
  }
 ],
 "metadata": {
  "kernelspec": {
   "display_name": "Python 3",
   "language": "python",
   "name": "python3"
  },
  "language_info": {
   "codemirror_mode": {
    "name": "ipython",
    "version": 3
   },
   "file_extension": ".py",
   "mimetype": "text/x-python",
   "name": "python",
   "nbconvert_exporter": "python",
   "pygments_lexer": "ipython3",
   "version": "3.6.5"
  }
 },
 "nbformat": 4,
 "nbformat_minor": 2
}
