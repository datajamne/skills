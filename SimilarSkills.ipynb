{
 "cells": [
  {
   "cell_type": "code",
   "execution_count": 1,
   "metadata": {},
   "outputs": [],
   "source": [
    "import pandas as pd\n",
    "import numpy as np"
   ]
  },
  {
   "cell_type": "markdown",
   "metadata": {},
   "source": [
    "*Skills Recommendation*: For a set of skills provided by user, return n skills which are the most similar"
   ]
  },
  {
   "cell_type": "code",
   "execution_count": 8,
   "metadata": {},
   "outputs": [],
   "source": [
    "# Reading in and setting up the adjacency matrix\n",
    "Adj=pd.read_csv('https://datajam2018.blob.core.windows.net/eventopendata/ne_data/dwp_data/adzuna_adjacency_201709_201808.csv')\n",
    "Adj=Adj.set_index('skills')\n"
   ]
  },
  {
   "cell_type": "code",
   "execution_count": 10,
   "metadata": {},
   "outputs": [],
   "source": [
    "# Calculating correlation matrix\n",
    "Diag=Adj.max()\n",
    "B=Adj.divide(Diag)\n",
    "Corr=B.multiply(B.transpose())"
   ]
  },
  {
   "cell_type": "code",
   "execution_count": 22,
   "metadata": {},
   "outputs": [],
   "source": [
    "# Choosing n skills most correlated to user's skills (mySkills)\n",
    "def SimilarSkills(mySkills, n) :\n",
    "    m=len(mySkills)\n",
    "    Similar=Corr.loc[mySkills].sum()\n",
    "    Similar=Similar.sort_values(ascending=False)[m:]\n",
    "    return Similar[:n]\n",
    "# Test\n",
    "#mySkills = ['.Net', 'Sales','Marketing','Business Development']\n",
    "#SimilarSkills(mySkills, 10)"
   ]
  },
  {
   "cell_type": "markdown",
   "metadata": {},
   "source": [
    "*Salary Information*: For each recommended skill return median salary from July 2018"
   ]
  },
  {
   "cell_type": "code",
   "execution_count": 34,
   "metadata": {},
   "outputs": [],
   "source": [
    "# Get Salary information for skills, use latest reliable data\n",
    "SkillSalary=pd.read_csv('https://datajam2018.blob.core.windows.net/eventopendata/ne_data/dwp_data/adzuna_skill_salary_median.csv', index_col=0)\n",
    "Salary=SkillSalary.loc[201807]"
   ]
  },
  {
   "cell_type": "code",
   "execution_count": 44,
   "metadata": {},
   "outputs": [
    {
     "data": {
      "text/plain": [
       "Clients               28876.0\n",
       "Communication         26880.0\n",
       "Management            27840.0\n",
       "Account Management    28876.0\n",
       "Sales Management      28876.0\n",
       "Customer Service      27000.0\n",
       "Social Media          28876.0\n",
       "Solutions             28876.0\n",
       "Budgets               28876.0\n",
       "Sales Experience      32640.0\n",
       "Name: 201807, dtype: float64"
      ]
     },
     "execution_count": 44,
     "metadata": {},
     "output_type": "execute_result"
    }
   ],
   "source": [
    "# For each recommended skill return median salary\n",
    "def SimilarSalary (mySkills, n) :\n",
    "    mySimilarSkills=SimilarSkills(mySkills, 10)\n",
    "    mySimilarSalary=Salary[mySimilarSkills.index.values]\n",
    "    return mySimilarSalary\n",
    "\n",
    "# Test\n",
    "#mySkills = ['Sales','Marketing','Business Development','Project Management']\n",
    "#SimilarSalary(mySkills,10)\n"
   ]
  },
  {
   "cell_type": "code",
   "execution_count": null,
   "metadata": {},
   "outputs": [],
   "source": []
  }
 ],
 "metadata": {
  "kernelspec": {
   "display_name": "Python 3",
   "language": "python",
   "name": "python3"
  },
  "language_info": {
   "codemirror_mode": {
    "name": "ipython",
    "version": 3
   },
   "file_extension": ".py",
   "mimetype": "text/x-python",
   "name": "python",
   "nbconvert_exporter": "python",
   "pygments_lexer": "ipython3",
   "version": "3.6.5"
  }
 },
 "nbformat": 4,
 "nbformat_minor": 2
}
