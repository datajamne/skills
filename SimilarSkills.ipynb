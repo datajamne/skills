{
 "cells": [
  {
   "cell_type": "code",
   "execution_count": 1,
   "metadata": {},
   "outputs": [],
   "source": [
    "import pandas as pd\n",
    "import numpy as np"
   ]
  },
  {
   "cell_type": "markdown",
   "metadata": {},
   "source": [
    "*Skills Recommendation*: For a set of skills provided by user, return n skills which are the most similar"
   ]
  },
  {
   "cell_type": "code",
   "execution_count": 8,
   "metadata": {},
   "outputs": [],
   "source": [
    "# Reading in and setting up the adjacency matrix\n",
    "Adj=pd.read_csv('https://datajam2018.blob.core.windows.net/eventopendata/ne_data/dwp_data/adzuna_adjacency_201709_201808.csv')\n",
    "Adj=Adj.set_index('skills')\n"
   ]
  },
  {
   "cell_type": "code",
   "execution_count": 10,
   "metadata": {},
   "outputs": [],
   "source": [
    "# Calculating correlation matrix\n",
    "Diag=Adj.max()\n",
    "B=Adj.divide(Diag)\n",
    "Corr=B.multiply(B.transpose())"
   ]
  },
  {
   "cell_type": "code",
   "execution_count": 45,
   "metadata": {},
   "outputs": [
    {
     "data": {
      "text/plain": [
       "C#                      0.326652\n",
       "Clients                 0.148210\n",
       "Communication           0.134327\n",
       "Account Management      0.129131\n",
       "ASP.NET                 0.125519\n",
       "Sales Management        0.119239\n",
       "Customer Service        0.113508\n",
       "Microsoft SQL Server    0.112313\n",
       "ASP.NET MVC             0.105367\n",
       "Management              0.104850\n",
       "dtype: float64"
      ]
     },
     "execution_count": 45,
     "metadata": {},
     "output_type": "execute_result"
    }
   ],
   "source": [
    "# Choosing n skills most correlated to user's skills (mySkills)\n",
    "def SimilarSkills(mySkills, n) :\n",
    "    m=len(mySkills)\n",
    "    Similar=Corr.loc[mySkills].sum()\n",
    "    Similar=Similar.sort_values(ascending=False)[m:]\n",
    "    return Similar[:n]\n",
    "# Test\n",
    "#mySkills = ['.Net', 'Sales','Marketing','Business Development']\n",
    "#SimilarSkills(mySkills, 10)"
   ]
  },
  {
   "cell_type": "markdown",
   "metadata": {},
   "source": [
    "*Salary Information*: For each recommended skill return median salary from July 2018"
   ]
  },
  {
   "cell_type": "code",
   "execution_count": 34,
   "metadata": {},
   "outputs": [],
   "source": [
    "# Get Salary information for skills, use latest reliable data\n",
    "SkillSalary=pd.read_csv('https://datajam2018.blob.core.windows.net/eventopendata/ne_data/dwp_data/adzuna_skill_salary_median.csv', index_col=0)\n",
    "Salary=SkillSalary.loc[201807]"
   ]
  },
  {
   "cell_type": "code",
   "execution_count": 51,
   "metadata": {},
   "outputs": [
    {
     "data": {
      "text/plain": [
       "Microsoft Powerpoint    27500.0\n",
       "Reporting               28876.0\n",
       "Communication           26880.0\n",
       "Management              27840.0\n",
       "Microsoft Outlook       28876.0\n",
       "Finance                 28876.0\n",
       "Microsoft Office        28876.0\n",
       "Solutions               28876.0\n",
       "Attention to Detail     28876.0\n",
       "Analytics               28876.0\n",
       "Name: 201807, dtype: float64"
      ]
     },
     "execution_count": 51,
     "metadata": {},
     "output_type": "execute_result"
    }
   ],
   "source": [
    "# For each recommended skill return median salary\n",
    "def SimilarSalary (mySkills, n) :\n",
    "    mySimilarSkills=SimilarSkills(mySkills, 10)\n",
    "    mySimilarSalary=Salary[mySimilarSkills.index.values]\n",
    "    return mySimilarSalary\n",
    "\n",
    "# Test\n",
    "#mySkills = ['Sales','Marketing','Business Development','Project Management']\n",
    "#mySkills =['Analysis', 'Statistics','Data','Microsoft Excel', 'R']\n",
    "#SimilarSalary(mySkills,10)"
   ]
  },
  {
   "cell_type": "markdown",
   "metadata": {},
   "source": [
    "*Job Titles*: Using users current and recommended skills return related jobtitles"
   ]
  },
  {
   "cell_type": "code",
   "execution_count": 54,
   "metadata": {},
   "outputs": [],
   "source": [
    "# Get the skills and job titles data\n",
    "SkillJobs=pd.read_csv('https://datajam2018.blob.core.windows.net/eventopendata/ne_data/dwp_data/adzuna_skills_jobs_201704_201803.csv')\n",
    "SkillJobs=SkillJobs.set_index('normalised_job_title')"
   ]
  },
  {
   "cell_type": "code",
   "execution_count": 82,
   "metadata": {},
   "outputs": [],
   "source": [
    "# For a list of skills return related job titles\n",
    "JobFreq=SkillJobs.sum(axis=1) # Get total frequency for all jobs\n",
    "RelativeFreq=SkillJobs.div(JobFreq, axis=0) # For each job get relative frequency of skills\n",
    "\n",
    "def RelatedJobs (mySkills, n) :\n",
    "    MyRelativeFreq=RelativeFreq[mySkills] # Pick out relative frequency of users skills\n",
    "    myJobs=MyRelativeFreq.sum(axis=1)\n",
    "    myJobs=myJobs.sort_values(ascending=False)\n",
    "    return myJobs[:n]"
   ]
  },
  {
   "cell_type": "code",
   "execution_count": 93,
   "metadata": {},
   "outputs": [
    {
     "data": {
      "text/plain": [
       "normalised_job_title\n",
       "Embalmer                                  0.937500\n",
       "Education Studies Lecturer                0.750000\n",
       "Kennel Supervisor                         0.533333\n",
       "Sales Manager Estate Agency               0.524175\n",
       "Marketing Agent                           0.494411\n",
       "Graduate Sales Management Trainee         0.486111\n",
       "Account Manager Print Management          0.430209\n",
       "Recruitment Consultant Office Services    0.422764\n",
       "Amusement and Recreation Attendant        0.416667\n",
       "Membership Consultant                     0.400260\n",
       "dtype: float64"
      ]
     },
     "execution_count": 93,
     "metadata": {},
     "output_type": "execute_result"
    }
   ],
   "source": [
    "#mySkills = ['Sales','Marketing','Business Development','Project Management']\n",
    "#mySkills =['Analysis', 'Statistics','Data','Microsoft Excel', 'R']\n",
    "#Sims=SimilarSkills(mySkills,10).index.values\n",
    "#AllSkills=np.append(np.array(mySkills),Sims)\n",
    "#RelatedJobs(mySkills.append(SimilarSkills(mySkills,10)),10)\n",
    "#RelatedJobs(AllSkills,10)"
   ]
  },
  {
   "cell_type": "code",
   "execution_count": null,
   "metadata": {},
   "outputs": [],
   "source": []
  }
 ],
 "metadata": {
  "kernelspec": {
   "display_name": "Python 3",
   "language": "python",
   "name": "python3"
  },
  "language_info": {
   "codemirror_mode": {
    "name": "ipython",
    "version": 3
   },
   "file_extension": ".py",
   "mimetype": "text/x-python",
   "name": "python",
   "nbconvert_exporter": "python",
   "pygments_lexer": "ipython3",
   "version": "3.6.5"
  }
 },
 "nbformat": 4,
 "nbformat_minor": 2
}
